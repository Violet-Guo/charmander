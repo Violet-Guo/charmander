{"metadata": {
    "language_info": {
        "name": "scala"
    },
    "kernelspec": {
        "display_name": "Spark 1.1.0 (Scala 2.10.4)",
        "name": "spark",
        "language": "scala"
    }
}, "nbformat_minor": 0, "cells": [
    {
        "metadata": {
            "trusted": true,
            "collapsed": false
        },
        "source": "sc",
        "execution_count": 16,
        "outputs": [
            {
                "metadata": {},
                "execution_count": 16,
                "data": {
                    "text/plain": "org.apache.spark.SparkContext@750e2d33"
                },
                "output_type": "execute_result"
            }
        ],
        "cell_type": "code"
    },
    {
        "metadata": {
            "trusted": true,
            "collapsed": false
        },
        "source": "val in = scala.io.Source.fromURL(\"http://172.31.2.11:31410/db/charmander/series?u=root&p=root&q=\"+java.net.URLEncoder.encode(\" select memory_usage from stats limit 200\"), \"utf-8\")",
        "execution_count": 17,
        "outputs": [],
        "cell_type": "code"
    },
    {
        "metadata": {
            "trusted": true,
            "collapsed": false
        },
        "source": "var data = \"\"\nfor (line <- in.getLines)\ndata = line",
        "execution_count": 18,
        "outputs": [],
        "cell_type": "code"
    },
    {
        "metadata": {
            "trusted": true,
            "collapsed": false
        },
        "source": "import org.json4s.jackson.JsonMethods\n",
        "execution_count": 19,
        "outputs": [],
        "cell_type": "code"
    },
    {
        "metadata": {
            "trusted": true,
            "collapsed": false
        },
        "source": "val json = JsonMethods.parse(data)",
        "execution_count": 20,
        "outputs": [],
        "cell_type": "code"
    },
    {
        "metadata": {
            "trusted": true,
            "collapsed": false
        },
        "source": "val points = json \\\\ \"points\"",
        "execution_count": 21,
        "outputs": [],
        "cell_type": "code"
    },
    {
        "metadata": {
            "trusted": true,
            "collapsed": false
        },
        "source": "val mypoints = points.values\nmypoints",
        "execution_count": 22,
        "outputs": [
            {
                "metadata": {},
                "execution_count": 22,
                "data": {
                    "text/plain": "List(List(1425193047000, 36000001, 84103168), List(1425193047000, 35400001, 84103168), List(1425193047000, 34800001, 84103168), List(1425193046000, 35990001, 84103168), List(1425193046000, 35390001, 84103168), List(1425193046000, 34790001, 84103168), List(1425193045000, 35980001, 84103168), List(1425193045000, 35380001, 84103168), List(1425193045000, 34780001, 84103168), List(1425193044000, 35970001, 84103168), List(1425193044000, 35370001, 84103168), List(1425193044000, 34770001, 84103168), List(1425193043000, 35960001, 84103168), List(1425193043000, 35360001, 84103168), List(1425193043000, 34760001, 84103168), List(1425193042000, 35950001, 84103168), List(1425193042000, 35350001, 84103168), List(1425193042000, 34750001, 84103168), List(1425193041000, 35940001, 84..."
                },
                "output_type": "execute_result"
            }
        ],
        "cell_type": "code"
    },
    {
        "metadata": {
            "trusted": true,
            "collapsed": false
        },
        "source": "val rdd = sc.parallelize(mypoints.asInstanceOf[List[List[BigDecimal]]])",
        "execution_count": 23,
        "outputs": [],
        "cell_type": "code"
    },
    {
        "metadata": {
            "trusted": true,
            "collapsed": false
        },
        "source": "case class MemoryUsage(timestamp: BigDecimal, memory: BigDecimal)",
        "execution_count": 24,
        "outputs": [],
        "cell_type": "code"
    },
    {
        "metadata": {
            "trusted": true,
            "collapsed": false
        },
        "source": "val memoryusage = rdd.map(p => MemoryUsage(BigDecimal(p(0).asInstanceOf[BigInt]), BigDecimal(p(2).asInstanceOf[BigInt])))",
        "execution_count": 25,
        "outputs": [],
        "cell_type": "code"
    },
    {
        "metadata": {
            "trusted": true,
            "collapsed": false
        },
        "source": "val sqlContext = new org.apache.spark.sql.SQLContext(sc)\nimport sqlContext._",
        "execution_count": 26,
        "outputs": [],
        "cell_type": "code"
    },
    {
        "metadata": {
            "trusted": true,
            "collapsed": false
        },
        "source": "memoryusage.registerTempTable(\"memoryusage\")",
        "execution_count": 27,
        "outputs": [],
        "cell_type": "code"
    },
    {
        "metadata": {
            "trusted": true,
            "collapsed": false
        },
        "source": "sqlContext.sql(\"select max(memory) from memoryusage\").first()",
        "execution_count": 28,
        "outputs": [
            {
                "metadata": {},
                "execution_count": 28,
                "data": {
                    "text/plain": "[84103168]"
                },
                "output_type": "execute_result"
            }
        ],
        "cell_type": "code"
    },
    {
        "metadata": {
            "trusted": true,
            "collapsed": true
        },
        "source": "",
        "execution_count": null,
        "outputs": [],
        "cell_type": "code"
    }
], "nbformat": 4}