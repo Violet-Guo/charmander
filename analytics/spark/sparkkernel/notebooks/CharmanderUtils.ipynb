{"metadata": {
    "language_info": {},
    "kernelspec": {
        "display_name": "Spark 1.1.0 (Scala 2.10.4)",
        "name": "spark"
    }
}, "nbformat": 4, "cells": [
    {
        "metadata": {
            "collapsed": false,
            "trusted": true
        },
        "cell_type": "code",
        "execution_count": 2,
        "outputs": [
            {
                "metadata": {},
                "output_type": "execute_result",
                "execution_count": 2,
                "data": {
                    "text/plain": "import org.att.charmander.CharmanderUtils"
                }
            }
        ],
        "source": "import org.att.charmander.CharmanderUtils"
    },
    {
        "metadata": {
            "collapsed": false,
            "trusted": true
        },
        "cell_type": "code",
        "execution_count": 3,
        "outputs": [
            {
                "metadata": {},
                "output_type": "execute_result",
                "execution_count": 3,
                "data": {
                    "text/plain": "res4: List[String] = List(lookbusy80)"
                }
            }
        ],
        "source": "CharmanderUtils.getMeteredTaskNamesFromRedis"
    },
    {
        "metadata": {
            "collapsed": false,
            "trusted": true
        },
        "cell_type": "code",
        "execution_count": 6,
        "outputs": [
            {
                "metadata": {},
                "output_type": "execute_result",
                "execution_count": 6,
                "data": {
                    "text/plain": "memoryUsage: org.apache.spark.rdd.RDD[List[BigDecimal]] = lookbusy80 ParallelCollectionRDD[2] at parallelize at CharmanderUtils.scala:141"
                }
            }
        ],
        "source": "val memoryUsage= CharmanderUtils.getRDDForTask(sc, \"lookbusy80\", \"memory_usage\", 20)"
    },
    {
        "metadata": {
            "collapsed": false,
            "trusted": true
        },
        "cell_type": "code",
        "execution_count": 7,
        "outputs": [
            {
                "metadata": {},
                "output_type": "execute_result",
                "execution_count": 7,
                "data": {
                    "text/plain": "res11: List[BigDecimal] = List(1420249001000, 681710001, 84107264)"
                }
            }
        ],
        "source": "memoryUsage.first"
    },
    {
        "metadata": {
            "collapsed": true,
            "trusted": true
        },
        "cell_type": "code",
        "execution_count": null,
        "outputs": [],
        "source": ""
    }
], "nbformat_minor": 0}